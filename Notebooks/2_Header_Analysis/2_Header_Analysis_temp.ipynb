{
  "cells": [
    {
      "cell_type": "markdown",
      "metadata": {
        "id": "AGM4lg42b3uY"
      },
      "source": [
        "# **Part 1: Header Analysis**"
      ]
    },
    {
      "cell_type": "code",
      "execution_count": 1,
      "metadata": {
        "colab": {
          "base_uri": "https://localhost:8080/"
        },
        "id": "HwO64NoO1lpd",
        "outputId": "68a5fb7c-7eec-43a0-dcee-e26967cc43f1"
      },
      "outputs": [
        {
          "name": "stdout",
          "output_type": "stream",
          "text": [
            "Requirement already satisfied: ipapi in c:\\users\\alexi\\appdata\\local\\programs\\python\\python312\\lib\\site-packages (1.0.4)\n",
            "Requirement already satisfied: requests in c:\\users\\alexi\\appdata\\local\\programs\\python\\python312\\lib\\site-packages (from ipapi) (2.31.0)\n",
            "Requirement already satisfied: charset-normalizer<4,>=2 in c:\\users\\alexi\\appdata\\local\\programs\\python\\python312\\lib\\site-packages (from requests->ipapi) (3.3.2)\n",
            "Requirement already satisfied: idna<4,>=2.5 in c:\\users\\alexi\\appdata\\local\\programs\\python\\python312\\lib\\site-packages (from requests->ipapi) (3.4)\n",
            "Requirement already satisfied: urllib3<3,>=1.21.1 in c:\\users\\alexi\\appdata\\local\\programs\\python\\python312\\lib\\site-packages (from requests->ipapi) (2.1.0)\n",
            "Requirement already satisfied: certifi>=2017.4.17 in c:\\users\\alexi\\appdata\\local\\programs\\python\\python312\\lib\\site-packages (from requests->ipapi) (2023.7.22)\n",
            "Note: you may need to restart the kernel to use updated packages.\n"
          ]
        },
        {
          "name": "stderr",
          "output_type": "stream",
          "text": [
            "\n",
            "[notice] A new release of pip is available: 23.3.1 -> 24.0\n",
            "[notice] To update, run: python.exe -m pip install --upgrade pip\n"
          ]
        }
      ],
      "source": [
        "pip install ipapi"
      ]
    },
    {
      "cell_type": "code",
      "execution_count": 2,
      "metadata": {
        "colab": {
          "base_uri": "https://localhost:8080/"
        },
        "id": "t10bz-_C0Ibg",
        "outputId": "07c0f600-4c09-4e73-c6d2-1d4b4a225bbb"
      },
      "outputs": [],
      "source": [
        "import email\n",
        "import os\n",
        "import re\n",
        "import ipapi\n",
        "\n",
        "def extract_headers(msg):\n",
        "    headers = {\n",
        "        'Received-SPF': msg.get('Received-SPF'),\n",
        "        'ARC-Authentication-Results': msg.get('ARC-Authentication-Results')\n",
        "    }\n",
        "    return headers\n",
        "\n",
        "def check_spf(spf_header):\n",
        "    if spf_header:\n",
        "        spf_status = spf_header.lower()\n",
        "        if 'pass' in spf_status:\n",
        "            # Extract IP address from the SPF result\n",
        "            ip_match = re.search(r'designates\\s(.*?)\\s', spf_header)\n",
        "            if ip_match:\n",
        "                ip = ip_match.group(1)\n",
        "                return f\"Pass\", ip\n",
        "            else:\n",
        "                return \"Pass\", None\n",
        "        else:\n",
        "            return \"Not Pass\", None\n",
        "    else:\n",
        "        return \"Not Available\", None\n",
        "\n",
        "def check_dkim(arc_auth_results):\n",
        "    if arc_auth_results:\n",
        "        # Extract DKIM information from ARC-Authentication-Results header\n",
        "        dkim_match = re.search(r'dkim=(\\w+).*?header.i=(\\S+)', arc_auth_results)\n",
        "        if dkim_match:\n",
        "            dkim_status = dkim_match.group(1)\n",
        "            domain = dkim_match.group(2)\n",
        "            return dkim_status, domain\n",
        "        else:\n",
        "            return \"Not Available\", None\n",
        "    else:\n",
        "        return \"Not Available\", None\n",
        "\n",
        "def check_dmarc(arc_auth_results):\n",
        "    if arc_auth_results:\n",
        "        # Extract DMARC information from ARC-Authentication-Results header\n",
        "        dmarc_match = re.search(r'dmarc=(\\w+)', arc_auth_results)\n",
        "        if dmarc_match:\n",
        "            dmarc_status = dmarc_match.group(1)\n",
        "            return dmarc_status\n",
        "        else:\n",
        "            return \"Not Available\"\n",
        "    else:\n",
        "        return \"Not Available\"\n",
        "\n",
        "def get_ip_info(ip_address):\n",
        "    \"\"\"\n",
        "    Retrieves information about the given IP address using the ipapi library.\n",
        "\n",
        "    Args:\n",
        "        ip_address (str): The IP address to get information about.\n",
        "\n",
        "    Returns:\n",
        "        dict: The information about the IP address.\n",
        "    \"\"\"\n",
        "    # Get the IP information using the ipapi library\n",
        "    ip_info = ipapi.location(ip_address)\n",
        "\n",
        "    # Return IP information in a dictionary\n",
        "    return {\n",
        "        \"IP Address\": ip_info.get('ip'),\n",
        "        \"City\": ip_info.get('city'),\n",
        "        \"Region\": ip_info.get('region'),\n",
        "        \"Country\": ip_info.get('country_name'),\n",
        "        \"Postal Code\": ip_info.get('postal'),\n",
        "        \"Latitude\": ip_info.get('latitude'),\n",
        "        \"Longitude\": ip_info.get('longitude'),\n",
        "        \"Timezone\": ip_info.get('timezone'),\n",
        "        \"ISP\": ip_info.get('org')\n",
        "    }\n",
        "\n",
        "def analyze_email(eml_file_path):\n",
        "    if os.path.exists(eml_file_path):\n",
        "        with open(eml_file_path, 'r') as eml_file:\n",
        "            msg = email.message_from_file(eml_file)\n",
        "\n",
        "            # Extract specific headers\n",
        "            headers = extract_headers(msg)\n",
        "            print(\"Extracted Information:\")\n",
        "            for header, value in headers.items():\n",
        "                print(f\"{header}: {value}\")\n",
        "\n",
        "            # Check SPF, DKIM, DMARC\n",
        "            spf_status, spf_ip = check_spf(headers.get('Received-SPF'))\n",
        "            dkim_status, dkim_domain = check_dkim(headers.get('ARC-Authentication-Results'))\n",
        "            dmarc_status = check_dmarc(headers.get('ARC-Authentication-Results'))\n",
        "\n",
        "            # Extract IP address from SPF result\n",
        "            ip_match = re.search(r'designates\\s(.*?)\\s', headers.get('Received-SPF', ''))\n",
        "            ip = ip_match.group(1) if ip_match else None\n",
        "\n",
        "            # Get information about the IP address\n",
        "            ip_info = get_ip_info(ip) if ip else None\n",
        "\n",
        "            # Return analysis results in a dictionary\n",
        "            return {\n",
        "                \"SPF Status\": spf_status,\n",
        "                \"SPF IP\": spf_ip,\n",
        "                \"DKIM Status\": dkim_status,\n",
        "                \"DKIM Domain\": dkim_domain,\n",
        "                \"DMARC Status\": dmarc_status,\n",
        "                \"IP Info\": ip_info\n",
        "            }\n",
        "    else:\n",
        "        return {\"Error\": \"File not found.\"}"
      ]
    },
    {
      "cell_type": "code",
      "execution_count": 3,
      "metadata": {},
      "outputs": [
        {
          "name": "stdout",
          "output_type": "stream",
          "text": [
            "Extracted Information:\n",
            "Received-SPF: pass (google.com: domain of linguorank@gmail.com designates 209.85.220.41 as permitted sender) client-ip=209.85.220.41;\n",
            "ARC-Authentication-Results: i=1; mx.google.com;\n",
            "       dkim=pass header.i=@gmail.com header.s=20230601 header.b=lP6ePK8U;\n",
            "       spf=pass (google.com: domain of linguorank@gmail.com designates 209.85.220.41 as permitted sender) smtp.mailfrom=linguorank@gmail.com;\n",
            "       dmarc=pass (p=NONE sp=QUARANTINE dis=NONE) header.from=gmail.com\n",
            "{'SPF Status': 'Pass', 'SPF IP': '209.85.220.41', 'DKIM Status': 'pass', 'DKIM Domain': '@gmail.com', 'DMARC Status': 'pass', 'IP Info': {'IP Address': '209.85.220.41', 'City': 'Mountain View', 'Region': 'California', 'Country': 'United States', 'Postal Code': '94043', 'Latitude': 37.4043, 'Longitude': -122.0748, 'Timezone': 'America/Los_Angeles', 'ISP': 'GOOGLE'}}\n"
          ]
        }
      ],
      "source": [
        "# Usage\n",
        "eml_file_path = '../Example_emails/email_1.eml'  # Replace with your email file path\n",
        "analysis_results = analyze_email(eml_file_path)\n",
        "print(analysis_results)"
      ]
    },
    {
      "cell_type": "code",
      "execution_count": 8,
      "metadata": {},
      "outputs": [
        {
          "data": {
            "text/html": [
              "<div>\n",
              "<style scoped>\n",
              "    .dataframe tbody tr th:only-of-type {\n",
              "        vertical-align: middle;\n",
              "    }\n",
              "\n",
              "    .dataframe tbody tr th {\n",
              "        vertical-align: top;\n",
              "    }\n",
              "\n",
              "    .dataframe thead th {\n",
              "        text-align: right;\n",
              "    }\n",
              "</style>\n",
              "<table border=\"1\" class=\"dataframe\">\n",
              "  <thead>\n",
              "    <tr style=\"text-align: right;\">\n",
              "      <th></th>\n",
              "      <th>0-00.usa.cc</th>\n",
              "    </tr>\n",
              "  </thead>\n",
              "  <tbody>\n",
              "    <tr>\n",
              "      <th>0</th>\n",
              "      <td>0-mail.com</td>\n",
              "    </tr>\n",
              "    <tr>\n",
              "      <th>1</th>\n",
              "      <td>001.igg.biz</td>\n",
              "    </tr>\n",
              "    <tr>\n",
              "      <th>2</th>\n",
              "      <td>027168.com</td>\n",
              "    </tr>\n",
              "    <tr>\n",
              "      <th>3</th>\n",
              "      <td>0815.ru</td>\n",
              "    </tr>\n",
              "    <tr>\n",
              "      <th>4</th>\n",
              "      <td>0815.ry</td>\n",
              "    </tr>\n",
              "    <tr>\n",
              "      <th>5</th>\n",
              "      <td>0815.su</td>\n",
              "    </tr>\n",
              "    <tr>\n",
              "      <th>6</th>\n",
              "      <td>0845.ru</td>\n",
              "    </tr>\n",
              "    <tr>\n",
              "      <th>7</th>\n",
              "      <td>0ak.org</td>\n",
              "    </tr>\n",
              "    <tr>\n",
              "      <th>8</th>\n",
              "      <td>0box.eu</td>\n",
              "    </tr>\n",
              "    <tr>\n",
              "      <th>9</th>\n",
              "      <td>0clickemail.com</td>\n",
              "    </tr>\n",
              "  </tbody>\n",
              "</table>\n",
              "</div>"
            ],
            "text/plain": [
              "       0-00.usa.cc\n",
              "0       0-mail.com\n",
              "1      001.igg.biz\n",
              "2       027168.com\n",
              "3          0815.ru\n",
              "4          0815.ry\n",
              "5          0815.su\n",
              "6          0845.ru\n",
              "7          0ak.org\n",
              "8          0box.eu\n",
              "9  0clickemail.com"
            ]
          },
          "execution_count": 8,
          "metadata": {},
          "output_type": "execute_result"
        }
      ],
      "source": [
        "import pandas as pd\n",
        "df = pd.read_csv(\"https://raw.githubusercontent.com/Steemhunt/temporary-email-blacklist/master/blacklist.txt\")\n",
        "df.head(10)"
      ]
    }
  ],
  "metadata": {
    "colab": {
      "provenance": []
    },
    "kernelspec": {
      "display_name": "Python 3",
      "name": "python3"
    },
    "language_info": {
      "codemirror_mode": {
        "name": "ipython",
        "version": 3
      },
      "file_extension": ".py",
      "mimetype": "text/x-python",
      "name": "python",
      "nbconvert_exporter": "python",
      "pygments_lexer": "ipython3",
      "version": "3.12.0"
    }
  },
  "nbformat": 4,
  "nbformat_minor": 0
}
