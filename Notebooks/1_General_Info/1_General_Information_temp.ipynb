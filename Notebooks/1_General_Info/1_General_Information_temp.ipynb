{
  "cells": [
    {
      "cell_type": "markdown",
      "metadata": {
        "id": "D4F03wvxbqYw"
      },
      "source": [
        "# **Part 1: Email Subject Classifier**"
      ]
    },
    {
      "cell_type": "markdown",
      "metadata": {
        "id": "01nvtNzQbxja"
      },
      "source": [
        "**Goal**: Classify emails as spam or not spam based on their subject lines and contents where 0 is not spam and 1 is spam !"
      ]
    },
    {
      "cell_type": "markdown",
      "metadata": {
        "id": "1xDqNsBEVjNB"
      },
      "source": [
        "## **1. Importing Dataset**"
      ]
    },
    {
      "cell_type": "code",
      "execution_count": 5,
      "metadata": {
        "id": "108NvFYhV8bB"
      },
      "outputs": [],
      "source": [
        "import pandas as pd\n",
        "import matplotlib.pyplot as plt\n",
        "import seaborn as sns\n",
        "from warnings import simplefilter\n",
        "\n",
        "simplefilter(action='ignore', category=FutureWarning)\n",
        "\n",
        "# Load the dataset\n",
        "df = pd.read_csv('./data/dataset_subject.csv')"
      ]
    },
    {
      "cell_type": "code",
      "execution_count": 6,
      "metadata": {
        "colab": {
          "base_uri": "https://localhost:8080/",
          "height": 363
        },
        "id": "RWvizL8IW5U5",
        "outputId": "60851371-8990-4743-e6da-26311c51d60a"
      },
      "outputs": [
        {
          "data": {
            "text/html": [
              "<div>\n",
              "<style scoped>\n",
              "    .dataframe tbody tr th:only-of-type {\n",
              "        vertical-align: middle;\n",
              "    }\n",
              "\n",
              "    .dataframe tbody tr th {\n",
              "        vertical-align: top;\n",
              "    }\n",
              "\n",
              "    .dataframe thead th {\n",
              "        text-align: right;\n",
              "    }\n",
              "</style>\n",
              "<table border=\"1\" class=\"dataframe\">\n",
              "  <thead>\n",
              "    <tr style=\"text-align: right;\">\n",
              "      <th></th>\n",
              "      <th>Unnamed: 0.1</th>\n",
              "      <th>Unnamed: 0</th>\n",
              "      <th>Body</th>\n",
              "      <th>Label</th>\n",
              "    </tr>\n",
              "  </thead>\n",
              "  <tbody>\n",
              "    <tr>\n",
              "      <th>0</th>\n",
              "      <td>0</td>\n",
              "      <td>323</td>\n",
              "      <td>Subject: a personal message . . . . .\\n \\n we ...</td>\n",
              "      <td>1</td>\n",
              "    </tr>\n",
              "    <tr>\n",
              "      <th>1</th>\n",
              "      <td>1</td>\n",
              "      <td>375</td>\n",
              "      <td>Subject: re : call me now 732-942 - 7100\\n \\n ...</td>\n",
              "      <td>1</td>\n",
              "    </tr>\n",
              "    <tr>\n",
              "      <th>2</th>\n",
              "      <td>2</td>\n",
              "      <td>1349</td>\n",
              "      <td>Subject: request for discourse list\\n \\n dear ...</td>\n",
              "      <td>0</td>\n",
              "    </tr>\n",
              "    <tr>\n",
              "      <th>3</th>\n",
              "      <td>3</td>\n",
              "      <td>197</td>\n",
              "      <td>Subject: move over bill gates ! ! ! ! ! ! ! !\\...</td>\n",
              "      <td>1</td>\n",
              "    </tr>\n",
              "    <tr>\n",
              "      <th>4</th>\n",
              "      <td>4</td>\n",
              "      <td>147</td>\n",
              "      <td>Subject: 50 % return on investment . . .\\n \\n ...</td>\n",
              "      <td>1</td>\n",
              "    </tr>\n",
              "    <tr>\n",
              "      <th>5</th>\n",
              "      <td>5</td>\n",
              "      <td>1319</td>\n",
              "      <td>Subject: \\n \\n journal of japanese linguistics...</td>\n",
              "      <td>0</td>\n",
              "    </tr>\n",
              "    <tr>\n",
              "      <th>6</th>\n",
              "      <td>6</td>\n",
              "      <td>83</td>\n",
              "      <td>Subject: your free info .\\n \\n dear nlpeople ,...</td>\n",
              "      <td>1</td>\n",
              "    </tr>\n",
              "    <tr>\n",
              "      <th>7</th>\n",
              "      <td>7</td>\n",
              "      <td>186</td>\n",
              "      <td>Subject: build your own calbe tv descrambler w...</td>\n",
              "      <td>1</td>\n",
              "    </tr>\n",
              "    <tr>\n",
              "      <th>8</th>\n",
              "      <td>8</td>\n",
              "      <td>296</td>\n",
              "      <td>Subject: email list goldmine &amp; specials\\n \\n r...</td>\n",
              "      <td>1</td>\n",
              "    </tr>\n",
              "    <tr>\n",
              "      <th>9</th>\n",
              "      <td>9</td>\n",
              "      <td>426</td>\n",
              "      <td>Subject: review any book , pc or mac software ...</td>\n",
              "      <td>1</td>\n",
              "    </tr>\n",
              "  </tbody>\n",
              "</table>\n",
              "</div>"
            ],
            "text/plain": [
              "   Unnamed: 0.1  Unnamed: 0  \\\n",
              "0             0         323   \n",
              "1             1         375   \n",
              "2             2        1349   \n",
              "3             3         197   \n",
              "4             4         147   \n",
              "5             5        1319   \n",
              "6             6          83   \n",
              "7             7         186   \n",
              "8             8         296   \n",
              "9             9         426   \n",
              "\n",
              "                                                Body  Label  \n",
              "0  Subject: a personal message . . . . .\\n \\n we ...      1  \n",
              "1  Subject: re : call me now 732-942 - 7100\\n \\n ...      1  \n",
              "2  Subject: request for discourse list\\n \\n dear ...      0  \n",
              "3  Subject: move over bill gates ! ! ! ! ! ! ! !\\...      1  \n",
              "4  Subject: 50 % return on investment . . .\\n \\n ...      1  \n",
              "5  Subject: \\n \\n journal of japanese linguistics...      0  \n",
              "6  Subject: your free info .\\n \\n dear nlpeople ,...      1  \n",
              "7  Subject: build your own calbe tv descrambler w...      1  \n",
              "8  Subject: email list goldmine & specials\\n \\n r...      1  \n",
              "9  Subject: review any book , pc or mac software ...      1  "
            ]
          },
          "execution_count": 6,
          "metadata": {},
          "output_type": "execute_result"
        }
      ],
      "source": [
        "df.head(10)"
      ]
    },
    {
      "cell_type": "code",
      "execution_count": 7,
      "metadata": {
        "colab": {
          "base_uri": "https://localhost:8080/",
          "height": 363
        },
        "id": "v2f9MVxXW6x3",
        "outputId": "7329be7a-3c93-4a41-fae3-1bf5058506c8"
      },
      "outputs": [
        {
          "data": {
            "text/html": [
              "<div>\n",
              "<style scoped>\n",
              "    .dataframe tbody tr th:only-of-type {\n",
              "        vertical-align: middle;\n",
              "    }\n",
              "\n",
              "    .dataframe tbody tr th {\n",
              "        vertical-align: top;\n",
              "    }\n",
              "\n",
              "    .dataframe thead th {\n",
              "        text-align: right;\n",
              "    }\n",
              "</style>\n",
              "<table border=\"1\" class=\"dataframe\">\n",
              "  <thead>\n",
              "    <tr style=\"text-align: right;\">\n",
              "      <th></th>\n",
              "      <th>Unnamed: 0.1</th>\n",
              "      <th>Unnamed: 0</th>\n",
              "      <th>Body</th>\n",
              "      <th>Label</th>\n",
              "    </tr>\n",
              "  </thead>\n",
              "  <tbody>\n",
              "    <tr>\n",
              "      <th>490</th>\n",
              "      <td>490</td>\n",
              "      <td>608</td>\n",
              "      <td>Subject: ' snow ' lexemes in yup ' ik\\n \\n in ...</td>\n",
              "      <td>0</td>\n",
              "    </tr>\n",
              "    <tr>\n",
              "      <th>491</th>\n",
              "      <td>491</td>\n",
              "      <td>84</td>\n",
              "      <td>Subject: success guaranteed ! ! !\\n \\n our res...</td>\n",
              "      <td>1</td>\n",
              "    </tr>\n",
              "    <tr>\n",
              "      <th>492</th>\n",
              "      <td>492</td>\n",
              "      <td>2495</td>\n",
              "      <td>Subject: amta ' 98\\n \\n * * deadline postponed...</td>\n",
              "      <td>0</td>\n",
              "    </tr>\n",
              "    <tr>\n",
              "      <th>493</th>\n",
              "      <td>493</td>\n",
              "      <td>86</td>\n",
              "      <td>Subject: last chance\\n \\n if you wish to be re...</td>\n",
              "      <td>1</td>\n",
              "    </tr>\n",
              "    <tr>\n",
              "      <th>494</th>\n",
              "      <td>494</td>\n",
              "      <td>1516</td>\n",
              "      <td>Subject: lexicographer\\n \\n us-pa - pittsburgh...</td>\n",
              "      <td>0</td>\n",
              "    </tr>\n",
              "    <tr>\n",
              "      <th>495</th>\n",
              "      <td>495</td>\n",
              "      <td>655</td>\n",
              "      <td>Subject: re : 5 . 1250 language acquisition / ...</td>\n",
              "      <td>0</td>\n",
              "    </tr>\n",
              "    <tr>\n",
              "      <th>496</th>\n",
              "      <td>496</td>\n",
              "      <td>152</td>\n",
              "      <td>Subject: create a new credit file legally in 3...</td>\n",
              "      <td>1</td>\n",
              "    </tr>\n",
              "    <tr>\n",
              "      <th>497</th>\n",
              "      <td>497</td>\n",
              "      <td>411</td>\n",
              "      <td>Subject: financial freedom while your sleeping...</td>\n",
              "      <td>1</td>\n",
              "    </tr>\n",
              "    <tr>\n",
              "      <th>498</th>\n",
              "      <td>498</td>\n",
              "      <td>67</td>\n",
              "      <td>Subject: amazing health benefits of green tea ...</td>\n",
              "      <td>1</td>\n",
              "    </tr>\n",
              "    <tr>\n",
              "      <th>499</th>\n",
              "      <td>499</td>\n",
              "      <td>119</td>\n",
              "      <td>Subject: free marketing &amp; money secrets\\n \\n /...</td>\n",
              "      <td>1</td>\n",
              "    </tr>\n",
              "  </tbody>\n",
              "</table>\n",
              "</div>"
            ],
            "text/plain": [
              "     Unnamed: 0.1  Unnamed: 0  \\\n",
              "490           490         608   \n",
              "491           491          84   \n",
              "492           492        2495   \n",
              "493           493          86   \n",
              "494           494        1516   \n",
              "495           495         655   \n",
              "496           496         152   \n",
              "497           497         411   \n",
              "498           498          67   \n",
              "499           499         119   \n",
              "\n",
              "                                                  Body  Label  \n",
              "490  Subject: ' snow ' lexemes in yup ' ik\\n \\n in ...      0  \n",
              "491  Subject: success guaranteed ! ! !\\n \\n our res...      1  \n",
              "492  Subject: amta ' 98\\n \\n * * deadline postponed...      0  \n",
              "493  Subject: last chance\\n \\n if you wish to be re...      1  \n",
              "494  Subject: lexicographer\\n \\n us-pa - pittsburgh...      0  \n",
              "495  Subject: re : 5 . 1250 language acquisition / ...      0  \n",
              "496  Subject: create a new credit file legally in 3...      1  \n",
              "497  Subject: financial freedom while your sleeping...      1  \n",
              "498  Subject: amazing health benefits of green tea ...      1  \n",
              "499  Subject: free marketing & money secrets\\n \\n /...      1  "
            ]
          },
          "execution_count": 7,
          "metadata": {},
          "output_type": "execute_result"
        }
      ],
      "source": [
        "df.tail(10)"
      ]
    },
    {
      "cell_type": "markdown",
      "metadata": {
        "id": "6dIT9EPMV3Yq"
      },
      "source": [
        "## **2. Data Augmentation and Description**"
      ]
    },
    {
      "cell_type": "code",
      "execution_count": 8,
      "metadata": {
        "colab": {
          "base_uri": "https://localhost:8080/",
          "height": 472
        },
        "id": "jGyNDIUfV-C0",
        "outputId": "e31da90f-aaf8-413c-ca36-62f137714ce2"
      },
      "outputs": [
        {
          "data": {
            "image/png": "[encoded data removed]",
            "text/plain": [
              "<Figure size 640x480 with 1 Axes>"
            ]
          },
          "metadata": {},
          "output_type": "display_data"
        }
      ],
      "source": [
        "# Rename columns and handle missing values\n",
        "df = pd.concat([df], ignore_index=True).rename(columns={'Body':'Email','Label':'Spam'})\n",
        "df.dropna(inplace=True)\n",
        "\n",
        "# Visualize distribution of spam and non-spam emails\n",
        "sns.countplot(x='Spam', data=df)\n",
        "plt.title('Email distribution')\n",
        "plt.xticks([0,1],['Not spam','Spam'])\n",
        "plt.xlabel('Emails')\n",
        "plt.show()"
      ]
    },
    {
      "cell_type": "markdown",
      "metadata": {
        "id": "-abyHgpKV4dC"
      },
      "source": [
        "## **3. Data Preprocessing**"
      ]
    },
    {
      "cell_type": "code",
      "execution_count": 9,
      "metadata": {
        "colab": {
          "base_uri": "https://localhost:8080/"
        },
        "id": "7CPDja2GWF9L",
        "outputId": "6ad1aed9-6c16-4403-9e44-6be3ea25cdd2"
      },
      "outputs": [
        {
          "name": "stderr",
          "output_type": "stream",
          "text": [
            "[nltk_data] Downloading package stopwords to\n",
            "[nltk_data]     C:\\Users\\alexi\\AppData\\Roaming\\nltk_data...\n",
            "[nltk_data]   Package stopwords is already up-to-date!\n",
            "[nltk_data] Downloading package wordnet to\n",
            "[nltk_data]     C:\\Users\\alexi\\AppData\\Roaming\\nltk_data...\n",
            "[nltk_data]   Package wordnet is already up-to-date!\n"
          ]
        }
      ],
      "source": [
        "import re\n",
        "import nltk\n",
        "import pickle\n",
        "import pandas as pd\n",
        "\n",
        "nltk.download('stopwords')\n",
        "nltk.download('wordnet')\n",
        "\n",
        "from nltk.corpus import stopwords\n",
        "from nltk.stem import WordNetLemmatizer\n",
        "\n",
        "corpus = []\n",
        "lemmatizer = WordNetLemmatizer()\n",
        "\n",
        "for email in df['Email']:\n",
        "    # Data Cleaning\n",
        "    removed_tabs_newline = re.sub('[\\n|\\t]',' ',email)\n",
        "    removed_subject = re.sub('Subject:',' ',removed_tabs_newline)\n",
        "    removed_spchar_digits = re.sub('[^a-zA-Z]',' ',removed_subject)\n",
        "    lower_case_email = removed_spchar_digits.lower()\n",
        "    tokenized_email = lower_case_email.split()\n",
        "    filtered_words = [word for word in tokenized_email if word not in stopwords.words('english')]\n",
        "    lemmetized_words = [lemmatizer.lemmatize(word) for word in filtered_words]\n",
        "    email = ' '.join(lemmetized_words)\n",
        "    corpus.append(email)\n",
        "\n",
        "# Creating vectors using TF-IDF\n",
        "from sklearn.feature_extraction.text import TfidfVectorizer\n",
        "\n",
        "tfidf = TfidfVectorizer(max_features=5000)\n",
        "vectors = tfidf.fit_transform(corpus).toarray()\n",
        "feature_names = tfidf.get_feature_names_out()\n",
        "\n",
        "# Extracting independent and dependent variables\n",
        "X = pd.DataFrame(vectors, columns=feature_names)\n",
        "y = df['Spam']\n",
        "\n",
        "# Save TF-IDF vectorizer\n",
        "with open('tfidf.pkl', 'wb') as f:\n",
        "    pickle.dump(tfidf, f)\n",
        "\n"
      ]
    },
    {
      "cell_type": "markdown",
      "metadata": {
        "id": "3FC2HMM4WCz8"
      },
      "source": [
        "## **4. Model Building and Training**"
      ]
    },
    {
      "cell_type": "code",
      "execution_count": 10,
      "metadata": {
        "colab": {
          "base_uri": "https://localhost:8080/"
        },
        "id": "zpDA39gnWKBr",
        "outputId": "8c041270-56f5-412a-f64f-e5684207e981"
      },
      "outputs": [
        {
          "name": "stdout",
          "output_type": "stream",
          "text": [
            "Model score on test data: 0.98\n"
          ]
        }
      ],
      "source": [
        "from sklearn.model_selection import train_test_split\n",
        "from sklearn.metrics import classification_report, confusion_matrix\n",
        "from sklearn.naive_bayes import MultinomialNB\n",
        "\n",
        "X_train, X_test, y_train, y_test = train_test_split(X, y, test_size=0.30, random_state=0)\n",
        "\n",
        "# Model 1: Multinomial Naive Bayes\n",
        "classifier = MultinomialNB()\n",
        "classifier.fit(X_train, y_train)\n",
        "print('Model score on test data:', classifier.score(X_test, y_test))\n"
      ]
    },
    {
      "cell_type": "markdown",
      "metadata": {
        "id": "S693W0KvV5dl"
      },
      "source": [
        "## **5. Model Evaluation**"
      ]
    },
    {
      "cell_type": "code",
      "execution_count": 11,
      "metadata": {
        "colab": {
          "base_uri": "https://localhost:8080/",
          "height": 703
        },
        "id": "a6scE_CWWMGK",
        "outputId": "9b4e70f3-6de1-41f7-9d74-9971f10391ec"
      },
      "outputs": [
        {
          "data": {
            "image/png": "[encoded data removed]",
            "text/plain": [
              "<Figure size 800x600 with 2 Axes>"
            ]
          },
          "metadata": {},
          "output_type": "display_data"
        },
        {
          "name": "stdout",
          "output_type": "stream",
          "text": [
            "              precision    recall  f1-score   support\n",
            "\n",
            "           0       1.00      0.96      0.98        79\n",
            "           1       0.96      1.00      0.98        71\n",
            "\n",
            "    accuracy                           0.98       150\n",
            "   macro avg       0.98      0.98      0.98       150\n",
            "weighted avg       0.98      0.98      0.98       150\n",
            "\n"
          ]
        }
      ],
      "source": [
        "from sklearn.model_selection import cross_val_score\n",
        "\n",
        "# Cross-validation scores\n",
        "cross_val_score(classifier, X_test, y_test)\n",
        "\n",
        "# Predictions and Confusion Matrix\n",
        "y_predicted = classifier.predict(X_test)\n",
        "confusion_matrix_result = confusion_matrix(y_test, y_predicted)\n",
        "\n",
        "# Visualization\n",
        "labels = ['Not spam','Spam']\n",
        "plt.figure(figsize=(8,6))\n",
        "sns.heatmap(confusion_matrix_result, annot=True, cmap='Reds', fmt='.0f', xticklabels=labels, yticklabels=labels)\n",
        "plt.xlabel('Predicted values')\n",
        "plt.ylabel('Actual values')\n",
        "plt.show()\n",
        "\n",
        "# Classification Report\n",
        "classification_report_result = classification_report(y_test, y_predicted)\n",
        "print(classification_report_result)\n"
      ]
    },
    {
      "cell_type": "markdown",
      "metadata": {
        "id": "Rfd7QrgsV6a2"
      },
      "source": [
        "## **6. Model Export**\n"
      ]
    },
    {
      "cell_type": "code",
      "execution_count": 12,
      "metadata": {
        "id": "ClnAF3wsWQNT"
      },
      "outputs": [],
      "source": [
        "import pickle\n",
        "\n",
        "# Export the model using pickle\n",
        "with open('spam_classifier_model.pkl', 'wb') as f:\n",
        "    pickle.dump(classifier, f)"
      ]
    },
    {
      "cell_type": "markdown",
      "metadata": {
        "id": "iYbq2IlIV7Sk"
      },
      "source": [
        "## **7. Model Import and testing**"
      ]
    },
    {
      "cell_type": "code",
      "execution_count": 13,
      "metadata": {
        "colab": {
          "base_uri": "https://localhost:8080/"
        },
        "id": "_mVesfXyVjG1",
        "outputId": "f93dc33f-da9f-4efb-a015-b5711a780903"
      },
      "outputs": [
        {
          "name": "stdout",
          "output_type": "stream",
          "text": [
            "Example email is classified as: Not spam\n"
          ]
        }
      ],
      "source": [
        "# Importing the saved model\n",
        "with open('spam_classifier_model.pkl', 'rb') as f:\n",
        "    loaded_model = pickle.load(f)\n",
        "\n",
        "# Testing with an example\n",
        "example_email = ['Question about the course',]\n",
        "example_vector = tfidf.transform(example_email).toarray()\n",
        "\n",
        "# Prediction\n",
        "prediction = loaded_model.predict(example_vector)\n",
        "print(\"Example email is classified as:\", \"Spam\" if prediction[0] == 1 else \"Not spam\")"
      ]
    },
    {
      "cell_type": "code",
      "execution_count": 21,
      "metadata": {
        "colab": {
          "base_uri": "https://localhost:8080/"
        },
        "id": "0WnYs91oWu_5",
        "outputId": "4debcb4d-ede2-4070-9181-0dcc5aa85648"
      },
      "outputs": [
        {
          "name": "stdout",
          "output_type": "stream",
          "text": [
            "Example email is classified as: Spam\n"
          ]
        }
      ],
      "source": [
        "# Testing with an example\n",
        "# example_email = ['Get 5% off by clicking on this link!!',]\n",
        "example_email = ['High-severity alert! Please look at your account and update !',]\n",
        "example_vector = tfidf.transform(example_email).toarray()\n",
        "\n",
        "# Prediction\n",
        "prediction = loaded_model.predict(example_vector)\n",
        "print(\"Example email is classified as:\", \"Spam\" if prediction[0] == 1 else \"Not spam\")"
      ]
    },
    {
      "cell_type": "markdown",
      "metadata": {
        "id": "AGM4lg42b3uY"
      },
      "source": [
        "# **Part 2: General Information Email**"
      ]
    },
    {
      "cell_type": "code",
      "execution_count": 2,
      "metadata": {
        "id": "oYC_8MmCc3rK"
      },
      "outputs": [],
      "source": [
        "import email\n",
        "import os\n",
        "import re\n",
        "import pickle\n",
        "from sklearn.feature_extraction.text import TfidfVectorizer\n",
        "from sklearn.metrics.pairwise import cosine_similarity\n",
        "import warnings\n",
        "warnings.filterwarnings(\"ignore\")\n",
        "from datetime import datetime"
      ]
    },
    {
      "cell_type": "code",
      "execution_count": 3,
      "metadata": {
        "id": "TGPS2LGOb7P0"
      },
      "outputs": [],
      "source": [
        "import email\n",
        "import re\n",
        "import pickle\n",
        "from datetime import datetime\n",
        "from sklearn.feature_extraction.text import TfidfVectorizer\n",
        "from sklearn.metrics.pairwise import cosine_similarity\n",
        "\n",
        "def extract_email_info(eml_file_path, tfidf_vectorizer):\n",
        "    extracted_info = {}  # Dictionary to store extracted information\n",
        "    with open(eml_file_path, 'r') as eml_file:\n",
        "        msg = email.message_from_file(eml_file)\n",
        "\n",
        "        # Extract message ID, creation date, from, to, number of recipients, subject line\n",
        "        creation_date = msg.get('Date')\n",
        "        if creation_date:\n",
        "            # Parse the creation date to datetime object\n",
        "            creation_datetime = datetime.strptime(creation_date, \"%a, %d %b %Y %H:%M:%S %z\")\n",
        "            # Convert datetime object to day/month/year format\n",
        "            formatted_creation_date = creation_datetime.strftime(\"%d/%m/%Y\")\n",
        "            extracted_info['Creation Date'] = formatted_creation_date\n",
        "        else:\n",
        "            extracted_info['Creation Date'] = \"Unknown\"\n",
        "\n",
        "        extracted_info['From'] = msg.get('From')\n",
        "        recipients = extract_recipients(msg.get_all('To'))  # Get all recipients\n",
        "        extracted_info['Recipients'] = recipients\n",
        "        extracted_info['Number of Recipients'] = len(recipients) if recipients else 1\n",
        "        extracted_info['Subject'] = msg.get('Subject')\n",
        "\n",
        "        # Check if there are any attachments and their types\n",
        "        attachments = []\n",
        "        for part in msg.walk():\n",
        "            if part.get_content_maintype() == 'multipart':\n",
        "                continue\n",
        "            if part.get_filename():\n",
        "                attachments.append(part.get_content_type())\n",
        "        extracted_info['Attachments'] = attachments if attachments else \"No attachments detected\"\n",
        "\n",
        "        # Extract and store all links from the email content\n",
        "        links_info = []\n",
        "        for part in msg.walk():\n",
        "            if part.get_content_type().startswith('text/plain') or part.get_content_type().startswith('text/html'):\n",
        "                email_content = part.get_payload(decode=True).decode(part.get_content_charset())\n",
        "                links = re.findall(r'<a\\s+href=\"([^\"]+?)\">([^<]+?)</a>', email_content)  # Extract displayed and actual links\n",
        "                if links:\n",
        "                    for actual_link, displayed_link in links:\n",
        "                        links_info.append({'Displayed Link': displayed_link, 'Actual Link': actual_link})\n",
        "                        # Compute cosine similarity between the displayed link and the actual link\n",
        "                        cosine_sim = compute_cosine_similarity(displayed_link, actual_link, tfidf_vectorizer)\n",
        "                        links_info[-1]['Cosine Similarity'] = cosine_sim\n",
        "        extracted_info['Links'] = links_info if links_info else \"No links detected\"\n",
        "\n",
        "        # Classify the subject\n",
        "        subject_classification = classify_subject(extracted_info['Subject'], tfidf_vectorizer)\n",
        "        extracted_info['Classified Subject'] = subject_classification\n",
        "\n",
        "    return extracted_info\n",
        "\n",
        "def extract_recipients(recipients):\n",
        "    extracted_recipients = []\n",
        "    if recipients:\n",
        "        for recipient in recipients:\n",
        "            addresses = re.findall(r'<([\\w\\.-]+@[\\w\\.-]+)>', recipient)  # Extract email addresses enclosed in <>\n",
        "            extracted_recipients.extend(addresses)\n",
        "    return extracted_recipients\n",
        "\n",
        "def compute_cosine_similarity(displayed_link, actual_link, tfidf_vectorizer):\n",
        "    added_link_without_http = re.sub(r'^https?://', '', displayed_link)  # Remove 'http://' from displayed link\n",
        "    actual_link_without_http = re.sub(r'^https?://', '', actual_link)  # Remove 'http://' from actual link\n",
        "    vectors = tfidf_vectorizer.transform([added_link_without_http, actual_link_without_http])\n",
        "    cosine_sim = cosine_similarity(vectors[0:1], vectors[1:]).flatten()[0]\n",
        "    return cosine_sim\n",
        "\n",
        "def classify_subject(subject, tfidf_vectorizer):\n",
        "    # Importing the saved model\n",
        "    with open('spam_classifier_model.pkl', 'rb') as f:\n",
        "        loaded_model = pickle.load(f)\n",
        "\n",
        "    # Transform the subject into a vector\n",
        "    print(subject)\n",
        "    example_vector = tfidf_vectorizer.transform([subject]).toarray()\n",
        "\n",
        "    # Prediction\n",
        "    prediction = loaded_model.predict(example_vector)\n",
        "    return \"Spam\" if prediction[0] == 1 else \"Not spam\"\n",
        "\n",
        "# Load TF-IDF vectorizer\n",
        "with open('tfidf.pkl', 'rb') as f:\n",
        "    tfidf_vectorizer = pickle.load(f)\n"
      ]
    },
    {
      "cell_type": "code",
      "execution_count": 4,
      "metadata": {
        "colab": {
          "base_uri": "https://localhost:8080/"
        },
        "id": "nbssMjKUcUB4",
        "outputId": "8655df18-695d-4e0d-8971-d05fd511303c"
      },
      "outputs": [
        {
          "name": "stdout",
          "output_type": "stream",
          "text": [
            "This is a sample mail with a link and attachment !\n",
            "{'Creation Date': '01/05/2024', 'From': 'Linguo Rank <linguorank@gmail.com>', 'Recipients': [], 'Number of Recipients': 1, 'Subject': 'This is a sample mail with a link and attachment !', 'Attachments': ['image/png', 'text/plain'], 'Links': [{'Displayed Link': 'Displayedlinl.com', 'Actual Link': 'https://www.wikihow.com/Main-Page', 'Cosine Similarity': 0.4281031098342067}], 'Classified Subject': 'Spam'}\n"
          ]
        }
      ],
      "source": [
        "# Usage\n",
        "eml_file_path = '../Example_emails/email_1.eml'  # Replace with your email file path\n",
        "email_info = extract_email_info(eml_file_path, tfidf_vectorizer)\n",
        "print(email_info)"
      ]
    }
  ],
  "metadata": {
    "colab": {
      "collapsed_sections": [
        "3FC2HMM4WCz8",
        "S693W0KvV5dl",
        "Rfd7QrgsV6a2"
      ],
      "provenance": []
    },
    "kernelspec": {
      "display_name": "Python 3",
      "name": "python3"
    },
    "language_info": {
      "codemirror_mode": {
        "name": "ipython",
        "version": 3
      },
      "file_extension": ".py",
      "mimetype": "text/x-python",
      "name": "python",
      "nbconvert_exporter": "python",
      "pygments_lexer": "ipython3",
      "version": "3.12.0"
    }
  },
  "nbformat": 4,
  "nbformat_minor": 0
}
